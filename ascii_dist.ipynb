{
 "cells": [
  {
   "cell_type": "markdown",
   "metadata": {},
   "source": [
    "# Unicode Distribution Creation\n",
    "The purpose of this project is to demonstrate how a set of unicode characters can be turned into a probability distribution for sampling from. The goal is to create a ipython magic function so this can be done easily. For example the following code would create a close to normal distribution object:\n",
    "```\n",
    "%%ascii_dist\n",
    "   _____\n",
    "  /     \\\n",
    " /       \\\n",
    "/         \\\n",
    "```"
   ]
  },
  {
   "cell_type": "code",
   "execution_count": 103,
   "metadata": {},
   "outputs": [],
   "source": [
    "# The general approach we are taking is as follows:\n",
    "# 1. Render the unicode characters as an image using PILLOW\n",
    "# 2. Consider the image to be a histogram and determine bin counts with missing data\n",
    "# 3. Interpolate data with pandas so the data is continuous\n",
    "# 4. Change this into a distribution that can be sampled from\n",
    "# 5. Stretch goal: Implement smoothing using rolling window\n",
    "#\n",
    "# See https://asc-paint.glitch.me/ as a way to create fancy ANSI curves\n",
    "\n",
    "from IPython.core.magic import register_cell_magic\n",
    "\n",
    "@register_cell_magic\n",
    "def ascii_dist(line, cell):\n",
    "    return ASCIIDistribution(cell)"
   ]
  },
  {
   "cell_type": "code",
   "execution_count": 123,
   "metadata": {},
   "outputs": [],
   "source": [
    "import pandas as pd\n",
    "import numpy as np\n",
    "from PIL import Image, ImageDraw, ImageFont\n",
    "from zipfile import ZipFile\n",
    "\n",
    "class ASCIIDistribution:\n",
    "    \"\"\"Represents a probability distribution based on an ASCII diagram\"\"\"\n",
    "        \n",
    "    def __init__(self, ascii_data):\n",
    "        self.df = None\n",
    "        \n",
    "        # TODO: figure out how big the canvas should be from the size of the text entered\n",
    "        img=Image.new(\"L\", (500,250), color=255)\n",
    "\n",
    "        # TODO: consider making the font choice an option, and choose size based on canvas descision\n",
    "        with ZipFile('Source_Code_Pro.zip', 'r') as font_zip:\n",
    "            with font_zip.open('SourceCodePro-Medium.ttf') as ttf_file:    \n",
    "                scp_font=ImageFont.truetype(ttf_file,size=48)\n",
    "\n",
    "        # Create drawing object and render our text\n",
    "        dr=ImageDraw.Draw(img)\n",
    "        dr=dr.text((0,0), ascii_data, font=scp_font)\n",
    "        \n",
    "        # render image to screen\n",
    "        #display(img)\n",
    "\n",
    "        WHITE_PIXEL_VALUE=255\n",
    "\n",
    "        # calculate the values along the x axis of the number of white pixels under the curve or set\n",
    "        # the value to None if there is no curve present at a given location\n",
    "        pixels=[]\n",
    "        for x in range(img.size[0]):\n",
    "            num_white_pixels=0\n",
    "            for y in range(img.size[1]):\n",
    "                if img.getpixel((x,img.size[1]-1-y)) != WHITE_PIXEL_VALUE:\n",
    "                    break\n",
    "                num_white_pixels+=1\n",
    "            if num_white_pixels==img.size[1]:\n",
    "                pixels.append(None)\n",
    "            else:\n",
    "                pixels.append(num_white_pixels)\n",
    "\n",
    "        # convert list to pandas to clean up distribution\n",
    "        pixels=pd.Series(pixels)\n",
    "        # trim the start and end of the pixel series from nans\n",
    "        pixels=pixels[~pixels.isna()]\n",
    "        # add back in gaps as nans by resampling to a secon frequency\n",
    "        pixels.index=pd.to_datetime(pixels.index,unit='s')\n",
    "        pixels=pixels.resample('1s').asfreq()\n",
    "\n",
    "        # interpolate to make distribution continuous\n",
    "        pixels=pixels.interpolate(limit_direction=\"both\")\n",
    "\n",
    "        # smooth data with rolling window\n",
    "        # TODO: Need to determine the size of the window based on size of the image/data\n",
    "        pixels=pixels.rolling(25,min_periods=1,center=True).mean()\n",
    "\n",
    "        # TODO: the date time index isn't needed any more so we should drop that back to integers?\n",
    "        # TODO: we need to generate the probability of a given point being chosen and put that in df[\"prob\"]\n",
    "        # TODO: we need to generate the cummulative probability of a given point and put that in df[\"cum_prob\"]\n",
    "        # TODO: then we pull out np.random.uniform() and find the closest point in df[\"cum_prob\"] to that\n",
    "        # what's a good way to do this? lame way: np.min(np.abs(df[\"cum_prob\"]-rando_num)) ??? \n",
    "        # Then we want to pull out that number's index. hrm.\n",
    "\n",
    "        df=pd.DataFrame(pixels,columns=[\"datapoints\"])\n",
    "        df[\"prob\"]=df[\"datapoints\"]/df[\"datapoints\"].sum()\n",
    "        df[\"cumprob\"]=df[\"prob\"].cumsum()\n",
    "\n",
    "        self.df=df\n",
    "\n",
    "    def sample(self):\n",
    "        target=np.random.uniform()\n",
    "        options=np.abs(self.df[\"cumprob\"]-target)\n",
    "        return (options[options==np.min(options)].index[0]-options.index[0]).total_seconds()/len(options)\n"
   ]
  },
  {
   "cell_type": "code",
   "execution_count": 105,
   "metadata": {},
   "outputs": [
    {
     "data": {
      "text/plain": [
       "<__main__.ASCIIDistribution at 0x7fd8da751b00>"
      ]
     },
     "execution_count": 105,
     "metadata": {},
     "output_type": "execute_result"
    }
   ],
   "source": [
    "%%ascii_dist\n",
    "   _____\n",
    "  /     \\\n",
    " /       \\\n",
    "/         \\\n"
   ]
  },
  {
   "cell_type": "code",
   "execution_count": 128,
   "metadata": {},
   "outputs": [
    {
     "data": {
      "text/plain": [
       "array([[<matplotlib.axes._subplots.AxesSubplot object at 0x7fd8d99ea0f0>]],\n",
       "      dtype=object)"
      ]
     },
     "metadata": {},
     "output_type": "display_data"
    },
    {
     "data": {
      "text/plain": [
       "array([[<matplotlib.axes._subplots.AxesSubplot object at 0x7fd8d931ecf8>]],\n",
       "      dtype=object)"
      ]
     },
     "metadata": {},
     "output_type": "display_data"
    },
    {
     "data": {
      "text/plain": [
       "array([[<matplotlib.axes._subplots.AxesSubplot object at 0x7fd8d92f7860>]],\n",
       "      dtype=object)"
      ]
     },
     "metadata": {},
     "output_type": "display_data"
    },
    {
     "data": {
      "text/plain": [
       "array([[<matplotlib.axes._subplots.AxesSubplot object at 0x7fd8d92d13c8>]],\n",
       "      dtype=object)"
      ]
     },
     "metadata": {},
     "output_type": "display_data"
    },
    {
     "data": {
      "text/plain": [
       "array([[<matplotlib.axes._subplots.AxesSubplot object at 0x7fd8d921a470>]],\n",
       "      dtype=object)"
      ]
     },
     "metadata": {},
     "output_type": "display_data"
    },
    {
     "data": {
      "image/png": "[encoded data removed]",
      "text/plain": [
       "<Figure size 432x288 with 1 Axes>"
      ]
     },
     "metadata": {
      "needs_background": "light"
     },
     "output_type": "display_data"
    },
    {
     "data": {
      "image/png": "[encoded data removed]",
      "text/plain": [
       "<Figure size 432x288 with 1 Axes>"
      ]
     },
     "metadata": {
      "needs_background": "light"
     },
     "output_type": "display_data"
    },
    {
     "data": {
      "image/png": "[encoded data removed]",
      "text/plain": [
       "<Figure size 432x288 with 1 Axes>"
      ]
     },
     "metadata": {
      "needs_background": "light"
     },
     "output_type": "display_data"
    },
    {
     "data": {
      "image/png": "[encoded data removed]",
      "text/plain": [
       "<Figure size 432x288 with 1 Axes>"
      ]
     },
     "metadata": {
      "needs_background": "light"
     },
     "output_type": "display_data"
    },
    {
     "data": {
      "image/png": "[encoded data removed]",
      "text/plain": [
       "<Figure size 432x288 with 1 Axes>"
      ]
     },
     "metadata": {
      "needs_background": "light"
     },
     "output_type": "display_data"
    }
   ],
   "source": [
    "s=r'''\n",
    "   _____\n",
    "  /     \\\n",
    " /       \\\n",
    "/         \\ '''\n",
    "\n",
    "x=ASCIIDistribution(s)\n",
    "for j in range(0,5):\n",
    "    display(pd.DataFrame([x.sample() for i in range(0,1000)]).hist(bins=10))"
   ]
  },
  {
   "cell_type": "code",
   "execution_count": 129,
   "metadata": {},
   "outputs": [
    {
     "data": {
      "text/plain": [
       "array([[<matplotlib.axes._subplots.AxesSubplot object at 0x7fd8d90e0be0>]],\n",
       "      dtype=object)"
      ]
     },
     "metadata": {},
     "output_type": "display_data"
    },
    {
     "data": {
      "text/plain": [
       "array([[<matplotlib.axes._subplots.AxesSubplot object at 0x7fd8d90f72e8>]],\n",
       "      dtype=object)"
      ]
     },
     "metadata": {},
     "output_type": "display_data"
    },
    {
     "data": {
      "text/plain": [
       "array([[<matplotlib.axes._subplots.AxesSubplot object at 0x7fd8d9082e10>]],\n",
       "      dtype=object)"
      ]
     },
     "metadata": {},
     "output_type": "display_data"
    },
    {
     "data": {
      "text/plain": [
       "array([[<matplotlib.axes._subplots.AxesSubplot object at 0x7fd8d8fda978>]],\n",
       "      dtype=object)"
      ]
     },
     "metadata": {},
     "output_type": "display_data"
    },
    {
     "data": {
      "text/plain": [
       "array([[<matplotlib.axes._subplots.AxesSubplot object at 0x7fd8d8fa5a20>]],\n",
       "      dtype=object)"
      ]
     },
     "metadata": {},
     "output_type": "display_data"
    },
    {
     "data": {
      "image/png": "[encoded data removed]",
      "text/plain": [
       "<Figure size 432x288 with 1 Axes>"
      ]
     },
     "metadata": {
      "needs_background": "light"
     },
     "output_type": "display_data"
    },
    {
     "data": {
      "image/png": "[encoded data removed]",
      "text/plain": [
       "<Figure size 432x288 with 1 Axes>"
      ]
     },
     "metadata": {
      "needs_background": "light"
     },
     "output_type": "display_data"
    },
    {
     "data": {
      "image/png": "[encoded data removed]",
      "text/plain": [
       "<Figure size 432x288 with 1 Axes>"
      ]
     },
     "metadata": {
      "needs_background": "light"
     },
     "output_type": "display_data"
    },
    {
     "data": {
      "image/png": "[encoded data removed]",
      "text/plain": [
       "<Figure size 432x288 with 1 Axes>"
      ]
     },
     "metadata": {
      "needs_background": "light"
     },
     "output_type": "display_data"
    },
    {
     "data": {
      "image/png": "[encoded data removed]",
      "text/plain": [
       "<Figure size 432x288 with 1 Axes>"
      ]
     },
     "metadata": {
      "needs_background": "light"
     },
     "output_type": "display_data"
    }
   ],
   "source": [
    "s=r'''\n",
    "\\    \n",
    " \\\n",
    "  \\\n",
    "        \\___/\\ '''\n",
    "\n",
    "x=ASCIIDistribution(s)\n",
    "for j in range(0,5):\n",
    "    display(pd.DataFrame([x.sample() for i in range(0,1000)]).hist(bins=10))"
   ]
  },
  {
   "cell_type": "code",
   "execution_count": null,
   "metadata": {},
   "outputs": [],
   "source": []
  }
 ],
 "metadata": {
  "kernelspec": {
   "display_name": "Python 3",
   "language": "python",
   "name": "python3"
  },
  "language_info": {
   "codemirror_mode": {
    "name": "ipython",
    "version": 3
   },
   "file_extension": ".py",
   "mimetype": "text/x-python",
   "name": "python",
   "nbconvert_exporter": "python",
   "pygments_lexer": "ipython3",
   "version": "3.7.3"
  }
 },
 "nbformat": 4,
 "nbformat_minor": 4
}
